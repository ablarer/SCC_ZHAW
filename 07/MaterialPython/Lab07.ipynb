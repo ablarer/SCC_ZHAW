{
 "cells": [
  {
   "cell_type": "markdown",
   "source": [
    "# Lab 7"
   ],
   "metadata": {
    "collapsed": false
   }
  },
  {
   "cell_type": "code",
   "execution_count": 16,
   "outputs": [],
   "source": [
    "from load_data import load_data\n",
    "import numpy as np\n",
    "from scipy import linalg"
   ],
   "metadata": {
    "collapsed": false
   }
  },
  {
   "cell_type": "markdown",
   "source": [
    "# Load data and print the available keys for the data"
   ],
   "metadata": {
    "collapsed": false
   }
  },
  {
   "cell_type": "code",
   "execution_count": 17,
   "outputs": [],
   "source": [
    "data = load_data()"
   ],
   "metadata": {
    "collapsed": false
   }
  },
  {
   "cell_type": "code",
   "execution_count": 18,
   "outputs": [
    {
     "name": "stdout",
     "output_type": "stream",
     "text": [
      "dict_keys(['dataMat1', 'ITest', 'VTest', 'meanTest', 'vecTest', 'mTest', 'vEigenTest1', 'vEigenTest2', 'faceDetection'])\n"
     ]
    }
   ],
   "source": [
    "print(data.keys())"
   ],
   "metadata": {
    "collapsed": false
   }
  },
  {
   "cell_type": "markdown",
   "source": [
    "# Task 1"
   ],
   "metadata": {
    "collapsed": false
   }
  },
  {
   "cell_type": "code",
   "execution_count": 134,
   "outputs": [
    {
     "name": "stdout",
     "output_type": "stream",
     "text": [
      "[[ 0.6778734  -0.73517866]\n",
      " [ 0.73517866  0.6778734 ]]\n",
      "test failed for method get_eigenvectors()\n",
      "expected\t[[ 0.6779 -0.7352]\n",
      " [ 0.7352  0.6779]]\n",
      "got\t\t[[ 0.6778734  -0.73517866]\n",
      " [ 0.73517866  0.6778734 ]]\n",
      "[[0.6778734 ]\n",
      " [0.73517866]]\n",
      "test failed for method get_eigenvectors()\n",
      "expected\t[[ 0.6779 -0.7352]]\n",
      "got\t\t[[0.6778734 ]\n",
      " [0.73517866]]\n"
     ]
    }
   ],
   "source": [
    "def get_eigenvectors(dataMat, k):\n",
    "    # np.cov calculates the covariance matrix of x\n",
    "    covMat = np.cov(dataMat.T)\n",
    "    n = len(covMat)\n",
    "    eigenvalues, eigenvectors = linalg.eigh(covMat, subset_by_index = [n - k, n - 1] )\n",
    "    # Reverse the order of elements in an array along the given axis.\n",
    "    eigenvectors = np.flip(eigenvectors, axis = 1)\n",
    "    print(eigenvectors)\n",
    "\n",
    "    return eigenvectors\n",
    "\n",
    "def test(expected, args, method):\n",
    "    act = method(*args)\n",
    "    comparison = act == expected\n",
    "    if not comparison.all():\n",
    "        print(f'test failed for method {method.__name__}()\\nexpected\\t{expected}\\ngot\\t\\t{act}')\n",
    "    elif comparison.all():\n",
    "        print(f'test successful')\n",
    "\n",
    "\n",
    "# Test case 1\n",
    "test_case_1 = np.array([[0.6779, -0.7352], [0.7352, 0.6779]])\n",
    "test(test_case_1, [data['dataMat1'], 2], get_eigenvectors)\n",
    "\n",
    "# Test case 2\n",
    "test_case_2 = np.array([[0.6779, -0.7352]])\n",
    "test(test_case_2, [data['dataMat1'], 1], get_eigenvectors)\n"
   ],
   "metadata": {
    "collapsed": false
   }
  },
  {
   "cell_type": "markdown",
   "source": [
    "# Task 2"
   ],
   "metadata": {
    "collapsed": false
   }
  },
  {
   "cell_type": "code",
   "execution_count": 135,
   "outputs": [
    {
     "name": "stdout",
     "output_type": "stream",
     "text": [
      "test failed for method get_mean()\n",
      "expected\t[1.81 1.91]\n",
      "got\t\t[1.81 1.91]\n"
     ]
    }
   ],
   "source": [
    "def get_mean(dataMat):\n",
    "    m = dataMat.mean(axis=0)\n",
    "    return m\n",
    "\n",
    "def test(expected, args, method):\n",
    "    act = method(*args)\n",
    "    comparison = act == expected\n",
    "    if not comparison.all():\n",
    "        print(f'test failed for method {method.__name__}()\\nexpected\\t{expected}\\ngot\\t\\t{act}')\n",
    "    elif comparison.all():\n",
    "        print(f'test successful')\n",
    "\n",
    "# Test case 1\n",
    "test(np.array([1.8100, 1.9100]), [data['dataMat1']], get_mean)"
   ],
   "metadata": {
    "collapsed": false
   }
  },
  {
   "cell_type": "markdown",
   "source": [
    "# Task 3"
   ],
   "metadata": {
    "collapsed": false
   }
  },
  {
   "cell_type": "code",
   "execution_count": 136,
   "outputs": [
    {
     "name": "stdout",
     "output_type": "stream",
     "text": [
      "test failed for method compressPCAVector()\n",
      "expected\t[0.60493717 0.60307834]\n",
      "got\t\t[0.60493717 0.60307834]\n",
      "test failed for method compressPCAVector()\n",
      "expected\t[0.49991164 0.69991839]\n",
      "got\t\t[0.49991164 0.69991839]\n"
     ]
    }
   ],
   "source": [
    "def compressPCAVector(vec, m, vEigen):\n",
    "    # Centered vector vec - m, substract the mean\n",
    "    vec_transformed = vEigen.T@(vec - m)\n",
    "    vec_compressed = (vEigen@vec_transformed) + m\n",
    "    return vec_compressed\n",
    "\n",
    "def test(expected, args, method):\n",
    "    act = method(*args)\n",
    "    comparison = act == expected\n",
    "    if not comparison.all():\n",
    "        print(f'test failed for method {method.__name__}()\\nexpected\\t{expected}\\ngot\\t\\t{act}')\n",
    "    elif comparison.all():\n",
    "        print(f'test successful')\n",
    "\n",
    "# Test case 1\n",
    "test(np.array([0.60493717, 0.60307834]), [data['vecTest'], data['mTest'], data['vEigenTest1']], compressPCAVector)\n",
    "\n",
    "# Test case 2\n",
    "test(np.array([0.49991164, 0.69991839]), [data['vecTest'], data['mTest'], data['vEigenTest2']], compressPCAVector)\n"
   ],
   "metadata": {
    "collapsed": false
   }
  },
  {
   "cell_type": "markdown",
   "source": [
    "# Task 4"
   ],
   "metadata": {
    "collapsed": false
   }
  },
  {
   "cell_type": "code",
   "execution_count": 171,
   "outputs": [
    {
     "name": "stdout",
     "output_type": "stream",
     "text": [
      "[[2141. 2144. 3267.]\n",
      " [3376. 2569. 4262.]]\n"
     ]
    }
   ],
   "source": [
    "def transformingImageToVector(M):\n",
    "    V = M.reshape((M.shape[0]*M.shape[1]), 1)\n",
    "\n",
    "    return V, [M.shape[0], M.shape[1]]\n",
    "\n",
    "def transformingVectorToImage(V, height, width):\n",
    "    M = V.reshape(height, width)\n",
    "\n",
    "    return M\n",
    "\n",
    "def compressPCAImage(I, nEigenvectors, V, mean):\n",
    "    V1, shape_image = transformingImageToVector(I)\n",
    "    # mean is also a image and must be transformed to a vector\n",
    "    mean_vector = transformingImageToVector(mean)[0]\n",
    "    vEigen = V[:, :nEigenvectors]\n",
    "    ICompressed = compressPCAVector(V1, mean_vector, vEigen)\n",
    "    ICompressed = transformingVectorToImage(ICompressed, shape_image[0], shape_image[1])\n",
    "\n",
    "    return ICompressed\n",
    "\n",
    "# Test case 1\n",
    "nEigenvectors = 4\n",
    "# ICompressed\n",
    "mean = get_mean(data['VTest'])\n",
    "ICompressed = compressPCAImage(data['ITest'], nEigenvectors, data['VTest'], data['meanTest'] )\n",
    "print(ICompressed)"
   ],
   "metadata": {
    "collapsed": false
   }
  },
  {
   "cell_type": "markdown",
   "source": [
    "# Task 5"
   ],
   "metadata": {
    "collapsed": false
   }
  },
  {
   "cell_type": "code",
   "execution_count": 167,
   "outputs": [],
   "source": [],
   "metadata": {
    "collapsed": false
   }
  }
 ],
 "metadata": {
  "kernelspec": {
   "display_name": "Python 3",
   "language": "python",
   "name": "python3"
  },
  "language_info": {
   "codemirror_mode": {
    "name": "ipython",
    "version": 2
   },
   "file_extension": ".py",
   "mimetype": "text/x-python",
   "name": "python",
   "nbconvert_exporter": "python",
   "pygments_lexer": "ipython2",
   "version": "2.7.6"
  }
 },
 "nbformat": 4,
 "nbformat_minor": 0
}
