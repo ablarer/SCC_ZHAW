{
 "cells": [
  {
   "cell_type": "code",
   "execution_count": 1,
   "metadata": {
    "collapsed": true
   },
   "outputs": [],
   "source": [
    "# Offers:\n",
    "# def distance(p, q)\n",
    "# classify_nearestmean(A, M, k)\n",
    "\n",
    "from helper import distance, classify_nearestmean\n",
    "\n",
    "# Offers:\n",
    "# csvRead(file)\n",
    "# matRead(dir, name)\n",
    "# stringRead(name)\n",
    "# rgb2gray(img)\n",
    "# imshowGray(img)\n",
    "# imshowRgb(img)\n",
    "# load_data()\n",
    "\n",
    "from load_data import csvRead, matRead, stringRead, imshowGray, imshowRgb, load_data\n",
    "\n",
    "import numpy as np\n",
    "from scipy.stats import multivariate_normal"
   ]
  },
  {
   "cell_type": "code",
   "execution_count": 3,
   "outputs": [],
   "source": [
    "from scipy.stats import multivariate_normal\n",
    "\n",
    "\n",
    "def classify_gmm(A, M, k):\n",
    "    # classification by gmm\n",
    "    t = M.shape[0]\n",
    "    r, d = A.shape\n",
    "    N = r//k\n",
    "\n",
    "    pd = np.zeros((t, k))\n",
    "    for j in range(k):\n",
    "        T_j = A[N*j:N*(j+1), :]\n",
    "        m_j = np.mean(T_j, axis=0)\n",
    "        cov_mat_j = np.cov(T_j.T)\n",
    "        prob_dens = multivariate_normal.pdf(M, mean=m_j, cov=cov_mat_j)\n",
    "        pd[:, j] = prob_dens\n",
    "\n",
    "    alpha = np.zeros((t,))\n",
    "    for i in range(t):\n",
    "        s = pd[i,:].argmax()\n",
    "        alpha[i] = s\n",
    "    return alpha"
   ],
   "metadata": {
    "collapsed": false
   }
  },
  {
   "cell_type": "code",
   "execution_count": 6,
   "outputs": [
    {
     "name": "stdout",
     "output_type": "stream",
     "text": [
      "[2. 2. 1. 1.]\n",
      "[0. 1. 1. 1. 1.]\n"
     ]
    }
   ],
   "source": [
    "if __name__ == \"__main__\":\n",
    "    testData = load_data()\n",
    "    print(classify_gmm(testData['A1'], testData['M1'], 3))\n",
    "    print(classify_gmm(testData['A2'], testData['M2'], 2))"
   ],
   "metadata": {
    "collapsed": false
   }
  },
  {
   "cell_type": "code",
   "execution_count": null,
   "outputs": [],
   "source": [],
   "metadata": {
    "collapsed": false
   }
  }
 ],
 "metadata": {
  "kernelspec": {
   "display_name": "Python 3",
   "language": "python",
   "name": "python3"
  },
  "language_info": {
   "codemirror_mode": {
    "name": "ipython",
    "version": 2
   },
   "file_extension": ".py",
   "mimetype": "text/x-python",
   "name": "python",
   "nbconvert_exporter": "python",
   "pygments_lexer": "ipython2",
   "version": "2.7.6"
  }
 },
 "nbformat": 4,
 "nbformat_minor": 0
}
