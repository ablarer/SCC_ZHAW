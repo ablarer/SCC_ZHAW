{
 "cells": [
  {
   "cell_type": "code",
   "execution_count": 15,
   "id": "84f9f40f",
   "metadata": {},
   "outputs": [],
   "source": [
    "import pandas as pd\n",
    "import numpy as np\n",
    "import load_data as ld"
   ]
  },
  {
   "cell_type": "code",
   "execution_count": 16,
   "id": "591e1582",
   "metadata": {},
   "outputs": [],
   "source": [
    "data = ld.loadData()"
   ]
  },
  {
   "cell_type": "code",
   "execution_count": 22,
   "id": "dafa3cfc",
   "metadata": {},
   "outputs": [],
   "source": [
    "def train(matrix, labels):\n",
    "    \"\"\"\n",
    "    @matrix: cols : wordcounts, row: mails\n",
    "    @labels: spam not spam\n",
    "    @returns: p_x_spam, p_x_non_spam, p_tot_spam, p_tot_non_spam\n",
    "    \"\"\"\n",
    "    # Convert matrix to dataframe\n",
    "    df = pd.DataFrame(matrix)\n",
    "    print('Matrix:\\n ', df.head(5))\n",
    "\n",
    "    # TrainLabels represents an array consisting of 0/1 entries. The ith entry of this array\n",
    "    # indicates whether the ith document is spam (1 = spam, 0 = non-spam).\n",
    "    print('Labels:\\n ', labels[:5], 'Size: ', labels.shape)\n",
    "\n",
    "    # Add column spam from labels\n",
    "    df['spam'] = labels\n",
    "    print('Matrix with labels:\\n ', df.head(5))\n",
    "\n",
    "    # Calculate the number of messages that are spam\n",
    "    print('Number of columns with are marked as spam: ', df[df['spam'] == 1][1].count())\n",
    "\n",
    "    # Calculate the probability of spam messages\n",
    "    pspam = df[df['spam'] == 1][1].count() / len(df)\n",
    "    print('Probability of spam messages', pspam)\n",
    "\n",
    "    # Calculate the probability of non-spam messages\n",
    "    pnonspam = df[df['spam'] == 0][1].count() / len(df)\n",
    "    print('Probability of non-spam messages', pnonspam)\n",
    "\n",
    "    bag_spam = df[df['spam'] == 1].sum()\n",
    "    print('Number of spam words within each message (bag_spam):\\n', bag_spam[:5])\n",
    "\n",
    "    bag_nonspam = df[df['spam'] == 0].sum()\n",
    "    print('Number of non-spam words within each message (nonbag_spam):\\n', bag_nonspam[:5])\n",
    "\n",
    "    bag_spam_totalwords = bag_spam.drop('spam').sum()\n",
    "    print('bag_spam_totalwords', bag_spam_totalwords)\n",
    "\n",
    "    bag_non_spam_totalwords = bag_nonspam.drop('spam').sum()\n",
    "    print('bag_non_spam_totalwords', bag_non_spam_totalwords)\n",
    "\n",
    "    p_spam = bag_spam / bag_spam_totalwords\n",
    "    print('Probability of bag_spam words per message:\\n', p_spam.head(5))\n",
    "    p_not_spam = bag_nonspam / bag_non_spam_totalwords\n",
    "    print('Probability of of non_bag_spam words per message:\\n', p_not_spam.head(5))\n",
    "\n",
    "    return p_spam.drop('spam').values, p_not_spam.drop('spam').values, pspam, pnonspam"
   ]
  },
  {
   "cell_type": "code",
   "execution_count": 23,
   "outputs": [
    {
     "name": "stdout",
     "output_type": "stream",
     "text": [
      "Matrix:\n",
      "     0     1     2     3     4     5     6     7     8     9     ...  1438  \\\n",
      "0     0     0     0     1     0     0     0     0     0     0  ...     0   \n",
      "1     0     0     0     0     0     0     0     0     0     0  ...     0   \n",
      "2     0     0     0     0     0     0     0     0     0     0  ...     0   \n",
      "3     0     0     0     0     0     0     0     0     0     0  ...     0   \n",
      "4     0     0     0     0     0     0     0     0     0     0  ...     0   \n",
      "\n",
      "   1439  1440  1441  1442  1443  1444  1445  1446  1447  \n",
      "0     0     0     0     0     0     0     0     0     0  \n",
      "1     0     0     0     2     0     0     0     0     0  \n",
      "2     0     0     0     0     0     0     0     0     0  \n",
      "3     0     0     0     0     0     0     0     0     0  \n",
      "4     0     0     0     0     0     0     0     0     0  \n",
      "\n",
      "[5 rows x 1448 columns]\n",
      "Labels:\n",
      "  [1 0 1 0 0] Size:  (2144,)\n",
      "Matrix with labels:\n",
      "     0  1  2  3  4  5  6  7  8  9  ...  1439  1440  1441  1442  1443  1444  \\\n",
      "0  0  0  0  1  0  0  0  0  0  0  ...     0     0     0     0     0     0   \n",
      "1  0  0  0  0  0  0  0  0  0  0  ...     0     0     0     2     0     0   \n",
      "2  0  0  0  0  0  0  0  0  0  0  ...     0     0     0     0     0     0   \n",
      "3  0  0  0  0  0  0  0  0  0  0  ...     0     0     0     0     0     0   \n",
      "4  0  0  0  0  0  0  0  0  0  0  ...     0     0     0     0     0     0   \n",
      "\n",
      "   1445  1446  1447  spam  \n",
      "0     0     0     0     1  \n",
      "1     0     0     0     0  \n",
      "2     0     0     0     1  \n",
      "3     0     0     0     0  \n",
      "4     0     0     0     0  \n",
      "\n",
      "[5 rows x 1449 columns]\n",
      "Number of columns with are marked as spam:  1070\n",
      "Probability of spam messages 0.49906716417910446\n",
      "Probability of non-spam messages 0.5009328358208955\n",
      "Number of spam words within each message (bag_spam):\n",
      " 0    28\n",
      "1    87\n",
      "2    12\n",
      "3    98\n",
      "4    13\n",
      "dtype: int64\n",
      "Number of non-spam words within each message (nonbag_spam):\n",
      " 0    16\n",
      "1    69\n",
      "2    11\n",
      "3    53\n",
      "4    26\n",
      "dtype: int64\n",
      "bag_spam_totalwords 105685\n",
      "bag_non_spam_totalwords 73431\n",
      "Probability of bag_spam words per message:\n",
      " 0    0.000265\n",
      "1    0.000823\n",
      "2    0.000114\n",
      "3    0.000927\n",
      "4    0.000123\n",
      "dtype: float64\n",
      "Probability of of non_bag_spam words per message:\n",
      " 0    0.000218\n",
      "1    0.000940\n",
      "2    0.000150\n",
      "3    0.000722\n",
      "4    0.000354\n",
      "dtype: float64\n"
     ]
    },
    {
     "data": {
      "text/plain": "(array([0.00026494, 0.0008232 , 0.00011354, ..., 0.00038795, 0.00292378,\n        0.00013247]),\n array([2.17891626e-04, 9.39657638e-04, 1.49800493e-04, ...,\n        1.36182266e-05, 5.71965519e-04, 1.77036946e-04]),\n 0.49906716417910446,\n 0.5009328358208955)"
     },
     "execution_count": 23,
     "metadata": {},
     "output_type": "execute_result"
    }
   ],
   "source": [
    "train(data['trainMatrix'], data['trainLabels'])"
   ],
   "metadata": {
    "collapsed": false
   }
  },
  {
   "cell_type": "code",
   "execution_count": 24,
   "outputs": [],
   "source": [
    "def test(test_data, test_labels, p_x_spam, p_x_non_spam, p_tot_spam, p_tot_non_spam):\n",
    "    \"\"\"\n",
    "    returns error rate, predicted labels\n",
    "    \"\"\"\n",
    "    p_m_spam = [np.prod(np.where(td >= 1, p_x_spam ** td, 1)) for td in test_data]\n",
    "    p_m_non_spam = [np.prod(np.where(td >= 1, p_x_non_spam ** td, 1)) for td in test_data]\n",
    "    p_m_spam = np.array(p_m_spam)\n",
    "    p_m_non_spam = np.array(p_m_non_spam)\n",
    "    p_m_and_spam = p_m_spam * p_tot_spam\n",
    "    p_m_and_non_spam = p_m_non_spam * p_tot_non_spam\n",
    "\n",
    "    correct =  sum((p_m_and_spam > p_m_and_non_spam) == test_labels)\n",
    "    return (len(test_labels) - correct) / len(test_labels), (p_m_and_spam > p_m_and_non_spam)\n",
    "\n"
   ],
   "metadata": {
    "collapsed": false
   }
  },
  {
   "cell_type": "code",
   "execution_count": 26,
   "outputs": [
    {
     "name": "stdout",
     "output_type": "stream",
     "text": [
      "Matrix:\n",
      "     0  1  2  3  4\n",
      "0  1  1  0  0  1\n",
      "1  1  1  0  0  1\n",
      "2  0  1  1  0  0\n",
      "3  1  1  1  0  0\n",
      "4  0  0  1  0  0\n",
      "Labels:\n",
      "  [1 0 1 1 1] Size:  (8,)\n",
      "Matrix with labels:\n",
      "     0  1  2  3  4  spam\n",
      "0  1  1  0  0  1     1\n",
      "1  1  1  0  0  1     0\n",
      "2  0  1  1  0  0     1\n",
      "3  1  1  1  0  0     1\n",
      "4  0  0  1  0  0     1\n",
      "Number of columns with are marked as spam:  6\n",
      "Probability of spam messages 0.75\n",
      "Probability of non-spam messages 0.25\n",
      "Number of spam words within each message (bag_spam):\n",
      " 0    3\n",
      "1    3\n",
      "2    5\n",
      "3    1\n",
      "4    3\n",
      "dtype: int64\n",
      "Number of non-spam words within each message (nonbag_spam):\n",
      " 0    2\n",
      "1    1\n",
      "2    1\n",
      "3    1\n",
      "4    2\n",
      "dtype: int64\n",
      "bag_spam_totalwords 15\n",
      "bag_non_spam_totalwords 7\n",
      "Probability of bag_spam words per message:\n",
      " 0    0.200000\n",
      "1    0.200000\n",
      "2    0.333333\n",
      "3    0.066667\n",
      "4    0.200000\n",
      "dtype: float64\n",
      "Probability of of non_bag_spam words per message:\n",
      " 0    0.285714\n",
      "1    0.142857\n",
      "2    0.142857\n",
      "3    0.142857\n",
      "4    0.285714\n",
      "dtype: float64\n"
     ]
    },
    {
     "name": "stderr",
     "output_type": "stream",
     "text": [
      "/var/folders/yv/012g3_cx4_v6msgqrfkfd7hr0000gp/T/ipykernel_77906/4244956807.py:12: DeprecationWarning: elementwise comparison failed; this will raise an error in the future.\n",
      "  correct =  sum((p_m_and_spam > p_m_and_non_spam) == test_labels)\n"
     ]
    },
    {
     "ename": "TypeError",
     "evalue": "'bool' object is not iterable",
     "output_type": "error",
     "traceback": [
      "\u001B[0;31m---------------------------------------------------------------------------\u001B[0m",
      "\u001B[0;31mTypeError\u001B[0m                                 Traceback (most recent call last)",
      "Input \u001B[0;32mIn [26]\u001B[0m, in \u001B[0;36m<cell line: 1>\u001B[0;34m()\u001B[0m\n\u001B[0;32m----> 1\u001B[0m \u001B[43mtest\u001B[49m\u001B[43m(\u001B[49m\u001B[43mdata\u001B[49m\u001B[43m[\u001B[49m\u001B[38;5;124;43m'\u001B[39;49m\u001B[38;5;124;43mtrainMatrixEx1\u001B[39;49m\u001B[38;5;124;43m'\u001B[39;49m\u001B[43m]\u001B[49m\u001B[43m,\u001B[49m\n\u001B[1;32m      2\u001B[0m \u001B[43m     \u001B[49m\u001B[43mdata\u001B[49m\u001B[43m[\u001B[49m\u001B[38;5;124;43m'\u001B[39;49m\u001B[38;5;124;43mtestLabelsEx1\u001B[39;49m\u001B[38;5;124;43m'\u001B[39;49m\u001B[43m]\u001B[49m\u001B[43m,\u001B[49m\n\u001B[1;32m      3\u001B[0m \u001B[43m     \u001B[49m\u001B[38;5;241;43m*\u001B[39;49m\u001B[43mtrain\u001B[49m\u001B[43m(\u001B[49m\u001B[43mdata\u001B[49m\u001B[43m[\u001B[49m\u001B[38;5;124;43m'\u001B[39;49m\u001B[38;5;124;43mtrainMatrixEx1\u001B[39;49m\u001B[38;5;124;43m'\u001B[39;49m\u001B[43m]\u001B[49m\u001B[43m,\u001B[49m\n\u001B[1;32m      4\u001B[0m \u001B[43m            \u001B[49m\u001B[43mdata\u001B[49m\u001B[43m[\u001B[49m\u001B[38;5;124;43m'\u001B[39;49m\u001B[38;5;124;43mtrainLabelsEx1\u001B[39;49m\u001B[38;5;124;43m'\u001B[39;49m\u001B[43m]\u001B[49m\u001B[43m)\u001B[49m\n\u001B[1;32m      5\u001B[0m \u001B[43m     \u001B[49m\u001B[43m)\u001B[49m\n",
      "Input \u001B[0;32mIn [24]\u001B[0m, in \u001B[0;36mtest\u001B[0;34m(test_data, test_labels, p_x_spam, p_x_non_spam, p_tot_spam, p_tot_non_spam)\u001B[0m\n\u001B[1;32m      9\u001B[0m p_m_and_spam \u001B[38;5;241m=\u001B[39m p_m_spam \u001B[38;5;241m*\u001B[39m p_tot_spam\n\u001B[1;32m     10\u001B[0m p_m_and_non_spam \u001B[38;5;241m=\u001B[39m p_m_non_spam \u001B[38;5;241m*\u001B[39m p_tot_non_spam\n\u001B[0;32m---> 12\u001B[0m correct \u001B[38;5;241m=\u001B[39m  \u001B[38;5;28;43msum\u001B[39;49m\u001B[43m(\u001B[49m\u001B[43m(\u001B[49m\u001B[43mp_m_and_spam\u001B[49m\u001B[43m \u001B[49m\u001B[38;5;241;43m>\u001B[39;49m\u001B[43m \u001B[49m\u001B[43mp_m_and_non_spam\u001B[49m\u001B[43m)\u001B[49m\u001B[43m \u001B[49m\u001B[38;5;241;43m==\u001B[39;49m\u001B[43m \u001B[49m\u001B[43mtest_labels\u001B[49m\u001B[43m)\u001B[49m\n\u001B[1;32m     13\u001B[0m \u001B[38;5;28;01mreturn\u001B[39;00m (\u001B[38;5;28mlen\u001B[39m(test_labels) \u001B[38;5;241m-\u001B[39m correct) \u001B[38;5;241m/\u001B[39m \u001B[38;5;28mlen\u001B[39m(test_labels), (p_m_and_spam \u001B[38;5;241m>\u001B[39m p_m_and_non_spam)\n",
      "\u001B[0;31mTypeError\u001B[0m: 'bool' object is not iterable"
     ]
    }
   ],
   "source": [
    "test(data['trainMatrixEx1'],\n",
    "     data['testLabelsEx1'],\n",
    "     *train(data['trainMatrixEx1'],\n",
    "            data['trainLabelsEx1'])\n",
    "     )"
   ],
   "metadata": {
    "collapsed": false
   }
  },
  {
   "cell_type": "code",
   "execution_count": 29,
   "outputs": [
    {
     "name": "stdout",
     "output_type": "stream",
     "text": [
      "Matrix:\n",
      "     0  1  2  3  4\n",
      "0  2  1  0  3  0\n",
      "1  4  1  0  0  2\n",
      "2  6  0  1  0  0\n",
      "3  1  1  2  0  0\n",
      "4  0  0  1  1  1\n",
      "Labels:\n",
      "  [1 1 1 0 0] Size:  (8,)\n",
      "Matrix with labels:\n",
      "     0  1  2  3  4  spam\n",
      "0  2  1  0  3  0     1\n",
      "1  4  1  0  0  2     1\n",
      "2  6  0  1  0  0     1\n",
      "3  1  1  2  0  0     0\n",
      "4  0  0  1  1  1     0\n",
      "Number of columns with are marked as spam:  3\n",
      "Probability of spam messages 0.375\n",
      "Probability of non-spam messages 0.625\n",
      "Number of spam words within each message (bag_spam):\n",
      " 0    12\n",
      "1     2\n",
      "2     1\n",
      "3     3\n",
      "4     2\n",
      "dtype: int64\n",
      "Number of non-spam words within each message (nonbag_spam):\n",
      " 0    4\n",
      "1    2\n",
      "2    7\n",
      "3    2\n",
      "4    5\n",
      "dtype: int64\n",
      "bag_spam_totalwords 20\n",
      "bag_non_spam_totalwords 20\n",
      "Probability of bag_spam words per message:\n",
      " 0    0.60\n",
      "1    0.10\n",
      "2    0.05\n",
      "3    0.15\n",
      "4    0.10\n",
      "dtype: float64\n",
      "Probability of of non_bag_spam words per message:\n",
      " 0    0.20\n",
      "1    0.10\n",
      "2    0.35\n",
      "3    0.10\n",
      "4    0.25\n",
      "dtype: float64\n"
     ]
    },
    {
     "data": {
      "text/plain": "(0.0, array([ True,  True,  True, False, False, False, False, False]))"
     },
     "execution_count": 29,
     "metadata": {},
     "output_type": "execute_result"
    }
   ],
   "source": [
    "test(data['trainMatrixEx2'],\n",
    "     data['trainLabelsEx2'],\n",
    "     *train(data['trainMatrixEx2'],\n",
    "            data['trainLabelsEx2'])\n",
    "     )"
   ],
   "metadata": {
    "collapsed": false
   }
  },
  {
   "cell_type": "code",
   "execution_count": 25,
   "id": "b37e30e1",
   "metadata": {},
   "outputs": [
    {
     "name": "stdout",
     "output_type": "stream",
     "text": [
      "Matrix:\n",
      "     0  1  2  3  4\n",
      "0  1  1  0  0  1\n",
      "1  1  1  0  0  1\n",
      "2  0  1  1  0  0\n",
      "3  1  1  1  0  0\n",
      "4  0  0  1  0  0\n",
      "Labels:\n",
      "  [1 0 1 1 1] Size:  (8,)\n",
      "Matrix with labels:\n",
      "     0  1  2  3  4  spam\n",
      "0  1  1  0  0  1     1\n",
      "1  1  1  0  0  1     0\n",
      "2  0  1  1  0  0     1\n",
      "3  1  1  1  0  0     1\n",
      "4  0  0  1  0  0     1\n",
      "Number of columns with are marked as spam:  6\n",
      "Probability of spam messages 0.75\n",
      "Probability of non-spam messages 0.25\n",
      "Number of spam words within each message (bag_spam):\n",
      " 0    3\n",
      "1    3\n",
      "2    5\n",
      "3    1\n",
      "4    3\n",
      "dtype: int64\n",
      "Number of non-spam words within each message (nonbag_spam):\n",
      " 0    2\n",
      "1    1\n",
      "2    1\n",
      "3    1\n",
      "4    2\n",
      "dtype: int64\n",
      "bag_spam_totalwords 15\n",
      "bag_non_spam_totalwords 7\n",
      "Probability of bag_spam words per message:\n",
      " 0    0.200000\n",
      "1    0.200000\n",
      "2    0.333333\n",
      "3    0.066667\n",
      "4    0.200000\n",
      "dtype: float64\n",
      "Probability of of non_bag_spam words per message:\n",
      " 0    0.285714\n",
      "1    0.142857\n",
      "2    0.142857\n",
      "3    0.142857\n",
      "4    0.285714\n",
      "dtype: float64\n"
     ]
    },
    {
     "data": {
      "text/plain": "(0.3333333333333333, array([ True,  True,  True, False,  True,  True]))"
     },
     "execution_count": 25,
     "metadata": {},
     "output_type": "execute_result"
    }
   ],
   "source": [
    "test(data['testMatrixEx1'],\n",
    "     data['testLabelsEx1'],\n",
    "     *train(data['trainMatrixEx1'],\n",
    "            data['trainLabelsEx1'])\n",
    "     )"
   ]
  },
  {
   "cell_type": "code",
   "execution_count": 9,
   "id": "599e153c",
   "metadata": {},
   "outputs": [
    {
     "name": "stdout",
     "output_type": "stream",
     "text": [
      "Matrix:\n",
      "     0  1  2  3  4\n",
      "0  2  1  0  3  0\n",
      "1  4  1  0  0  2\n",
      "2  6  0  1  0  0\n",
      "3  1  1  2  0  0\n",
      "4  0  0  1  1  1\n",
      "Labels:\n",
      "  [1 1 1 0 0] Size:  (8,)\n",
      "Matrix with labels:\n",
      "     0  1  2  3  4  spam\n",
      "0  2  1  0  3  0     1\n",
      "1  4  1  0  0  2     1\n",
      "2  6  0  1  0  0     1\n",
      "3  1  1  2  0  0     0\n",
      "4  0  0  1  1  1     0\n",
      "Number of columns with are marked as spam:  3\n",
      "Probability of spam messages 0.375\n",
      "Probability of non-spam messages 0.625\n",
      "Number of spam words within each message (bag_spam):\n",
      " 0    12\n",
      "1     2\n",
      "2     1\n",
      "3     3\n",
      "4     2\n",
      "dtype: int64\n",
      "Number of non-spam words within each message (nonbag_spam):\n",
      " 0    4\n",
      "1    2\n",
      "2    7\n",
      "3    2\n",
      "4    5\n",
      "dtype: int64\n",
      "bag_spam_totalwords 20\n",
      "bag_non_spam_totalwords 20\n",
      "Probability of bag_spam words per message:\n",
      " 0    0.60\n",
      "1    0.10\n",
      "2    0.05\n",
      "3    0.15\n",
      "4    0.10\n",
      "dtype: float64\n",
      "Probability of of non_bag_spam words per message:\n",
      " 0    0.20\n",
      "1    0.10\n",
      "2    0.35\n",
      "3    0.10\n",
      "4    0.25\n",
      "dtype: float64\n"
     ]
    },
    {
     "data": {
      "text/plain": "(0.16666666666666666, array([ True,  True, False, False, False, False]))"
     },
     "execution_count": 9,
     "metadata": {},
     "output_type": "execute_result"
    }
   ],
   "source": [
    "test(data['testMatrixEx2'], \n",
    "     data['testLabelsEx2'],\n",
    "     *train(data['trainMatrixEx2'],\n",
    "           data['trainLabelsEx2'])\n",
    ")"
   ]
  },
  {
   "cell_type": "code",
   "execution_count": 10,
   "id": "dff63971",
   "metadata": {},
   "outputs": [],
   "source": [
    "def train_laplace(matrix, labels): \n",
    "    \"\"\"\n",
    "    @matrix: cols : wordcounts, row: mails\n",
    "    @labels: spam not spam\n",
    "    @returns: p_x_spam, p_x_non_spam, p_tot_spam, p_tot_non_spam\n",
    "    \"\"\"\n",
    "    df = pd.DataFrame(matrix)\n",
    "    df['spam'] = labels\n",
    "    pspam = df[df['spam'] == 1][1].count() / len(df)\n",
    "    pnonspam = df[df['spam'] == 0][1].count() / len(df)\n",
    "    bag_spam = df[df['spam'] == 1].sum()\n",
    "    bag_nonspam = df[df['spam'] == 0].sum()\n",
    "    bag_spam_totalwords = bag_spam.drop('spam').sum()\n",
    "    bag_non_spam_totalwords = bag_nonspam.drop('spam').sum()\n",
    "    p_spam = (bag_spam + np.ones(bag_spam.values.shape)) / (bag_spam_totalwords + len(df.columns)-1)\n",
    "    p_not_spam = (bag_nonspam + np.ones(bag_nonspam.values.shape))/ (bag_non_spam_totalwords + len(df.columns)-1)\n",
    "    return p_spam.drop('spam').values, p_not_spam.drop('spam').values, pspam, pnonspam\n",
    "\n",
    "\n",
    "def test_laplace(test_data, test_labels, p_x_spam, p_x_non_spam, p_tot_spam, p_tot_non_spam):\n",
    "    \"\"\"\n",
    "    returns error rate, predicted labels\n",
    "    \"\"\"\n",
    "    p_m_spam = ([np.prod(np.where(td >= 1, p_x_spam ** td, 1)) for td in test_data])\n",
    "    p_m_non_spam = ([np.prod(np.where(td >= 1, p_x_non_spam ** td, 1)) for td in test_data])\n",
    "    p_m_spam = np.log(np.array(p_m_spam))\n",
    "    p_m_non_spam = np.log(np.array(p_m_non_spam))\n",
    "    p_m_and_spam = p_m_spam * p_tot_spam\n",
    "    p_m_and_non_spam = p_m_non_spam * p_tot_non_spam\n",
    "    \n",
    "    correct =  sum((p_m_and_spam > p_m_and_non_spam) == test_labels)\n",
    "    return (len(test_labels) - correct) / len(test_labels), (p_m_and_spam > p_m_and_non_spam)\n"
   ]
  },
  {
   "cell_type": "code",
   "execution_count": 11,
   "id": "d41da427",
   "metadata": {},
   "outputs": [
    {
     "data": {
      "text/plain": "((array([0.2, 0.2, 0.3, 0.1, 0.2]),\n  array([0.25      , 0.16666667, 0.16666667, 0.16666667, 0.25      ]),\n  0.75,\n  0.25),\n (0.5, array([False, False, False, False, False, False])))"
     },
     "execution_count": 11,
     "metadata": {},
     "output_type": "execute_result"
    }
   ],
   "source": [
    "comp = test_laplace(data['testMatrixEx1'], \n",
    "     data['testLabelsEx1'],\n",
    "     *train_laplace(data['trainMatrixEx1'],\n",
    "           data['trainLabelsEx1'])\n",
    ")\n",
    "\n",
    "act = train_laplace(data['trainMatrixEx1'],\n",
    "           data['trainLabelsEx1'])\n",
    "\n",
    "\n",
    "act, comp"
   ]
  },
  {
   "cell_type": "code",
   "execution_count": 12,
   "id": "c7dec9c2",
   "metadata": {},
   "outputs": [
    {
     "data": {
      "text/plain": "((array([0.52, 0.12, 0.08, 0.16, 0.12]),\n  array([0.2 , 0.12, 0.32, 0.12, 0.24]),\n  0.375,\n  0.625),\n (0.8333333333333334, array([ True,  True,  True,  True,  True,  True])))"
     },
     "execution_count": 12,
     "metadata": {},
     "output_type": "execute_result"
    }
   ],
   "source": [
    "comp = test_laplace(data['testMatrixEx2'], \n",
    "     data['testLabelsEx2'],\n",
    "     *train_laplace(data['trainMatrixEx2'],\n",
    "           data['trainLabelsEx2'])\n",
    ")\n",
    "\n",
    "act = train_laplace(data['trainMatrixEx2'],\n",
    "           data['trainLabelsEx2'])\n",
    "\n",
    "\n",
    "act, comp"
   ]
  },
  {
   "cell_type": "code",
   "execution_count": 13,
   "id": "4465c676",
   "metadata": {},
   "outputs": [
    {
     "name": "stderr",
     "output_type": "stream",
     "text": [
      "/var/folders/yv/012g3_cx4_v6msgqrfkfd7hr0000gp/T/ipykernel_77906/3768081447.py:26: RuntimeWarning: divide by zero encountered in log\n",
      "  p_m_spam = np.log(np.array(p_m_spam))\n",
      "/var/folders/yv/012g3_cx4_v6msgqrfkfd7hr0000gp/T/ipykernel_77906/3768081447.py:27: RuntimeWarning: divide by zero encountered in log\n",
      "  p_m_non_spam = np.log(np.array(p_m_non_spam))\n"
     ]
    },
    {
     "data": {
      "text/plain": "(0.7,\n array([ True,  True,  True,  True,  True, False,  True,  True, False,\n         True]))"
     },
     "execution_count": 13,
     "metadata": {},
     "output_type": "execute_result"
    }
   ],
   "source": [
    "comp = test_laplace(data['testMatrixEx3'], \n",
    "     data['testLabelsEx3'],\n",
    "     *train_laplace(data['trainMatrixEx3'],\n",
    "           data['trainLabelsEx3'])\n",
    ")\n",
    "\n",
    "act = train_laplace(data['trainMatrixEx3'],\n",
    "           data['trainLabelsEx3'])\n",
    "\n",
    "\n",
    "comp"
   ]
  },
  {
   "cell_type": "code",
   "execution_count": 14,
   "id": "c5aedd1f",
   "metadata": {},
   "outputs": [
    {
     "data": {
      "text/plain": "array([-4.60517019, -3.91202301, -3.5065579 , -3.21887582, -2.99573227,\n       -2.81341072, -2.65926004, -2.52572864, -2.40794561, -2.30258509,\n       -2.20727491, -2.12026354, -2.04022083, -1.96611286, -1.89711998,\n       -1.83258146, -1.77195684, -1.71479843, -1.66073121, -1.60943791,\n       -1.56064775, -1.51412773, -1.46967597, -1.42711636, -1.38629436,\n       -1.34707365, -1.30933332, -1.27296568, -1.23787436, -1.2039728 ,\n       -1.17118298, -1.13943428, -1.10866262, -1.07880966, -1.04982212,\n       -1.02165125, -0.99425227, -0.96758403, -0.94160854, -0.91629073,\n       -0.89159812, -0.86750057, -0.84397007, -0.82098055, -0.7985077 ,\n       -0.77652879, -0.75502258, -0.73396918, -0.71334989, -0.69314718,\n       -0.67334455, -0.65392647, -0.63487827, -0.61618614, -0.597837  ,\n       -0.5798185 , -0.56211892, -0.54472718, -0.52763274, -0.51082562,\n       -0.49429632, -0.4780358 , -0.46203546, -0.4462871 , -0.43078292,\n       -0.41551544, -0.40047757, -0.38566248, -0.37106368, -0.35667494,\n       -0.34249031, -0.32850407, -0.31471074, -0.30110509, -0.28768207,\n       -0.27443685, -0.26136476, -0.24846136, -0.23572233, -0.22314355,\n       -0.21072103, -0.19845094, -0.18632958, -0.17435339, -0.16251893,\n       -0.15082289, -0.13926207, -0.12783337, -0.11653382])"
     },
     "execution_count": 14,
     "metadata": {},
     "output_type": "execute_result"
    }
   ],
   "source": [
    "np.log(np.arange(0.01, 0.9, 0.01))"
   ]
  },
  {
   "cell_type": "code",
   "execution_count": null,
   "outputs": [],
   "source": [],
   "metadata": {
    "collapsed": false
   }
  }
 ],
 "metadata": {
  "kernelspec": {
   "name": "python3",
   "language": "python",
   "display_name": "Python 3 (ipykernel)"
  },
  "language_info": {
   "codemirror_mode": {
    "name": "ipython",
    "version": 3
   },
   "file_extension": ".py",
   "mimetype": "text/x-python",
   "name": "python",
   "nbconvert_exporter": "python",
   "pygments_lexer": "ipython3",
   "version": "3.10.6"
  }
 },
 "nbformat": 4,
 "nbformat_minor": 5
}
